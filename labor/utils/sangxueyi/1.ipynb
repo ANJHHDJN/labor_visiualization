{
 "cells": [
  {
   "cell_type": "code",
   "execution_count": 4,
   "metadata": {},
   "outputs": [
    {
     "ename": "SyntaxError",
     "evalue": "(unicode error) 'unicodeescape' codec can't decode bytes in position 2-3: truncated \\UXXXXXXXX escape (<ipython-input-4-3460ea9ce2b4>, line 2)",
     "output_type": "error",
     "traceback": [
      "\u001b[1;36m  File \u001b[1;32m\"<ipython-input-4-3460ea9ce2b4>\"\u001b[1;36m, line \u001b[1;32m2\u001b[0m\n\u001b[1;33m    with open('C:\\Users\\HiWin10\\Desktop\\打工\\labor-coefficient-server\\utils\\sangxueyi\\data\\flow_data.json','r',encoding='utf-8')as fp:\u001b[0m\n\u001b[1;37m             ^\u001b[0m\n\u001b[1;31mSyntaxError\u001b[0m\u001b[1;31m:\u001b[0m (unicode error) 'unicodeescape' codec can't decode bytes in position 2-3: truncated \\UXXXXXXXX escape\n"
     ]
    }
   ],
   "source": [
    "import json\r\n",
    "with open('C:\\Users\\HiWin10\\Desktop\\打工\\labor-coefficient-server\\utils\\sangxueyi\\data\\flow_data.json','r',encoding='utf-8')as fp:\r\n",
    "    json_data = json.load(fp)\r\n",
    "    \r\n",
    "json_data"
   ]
  },
  {
   "cell_type": "code",
   "execution_count": null,
   "metadata": {},
   "outputs": [],
   "source": [
    "jsObj = json.dumps(di, indent=4)  # indent参数是换行和缩进\r\n",
    "   \r\n",
    "fileObject = open('C:\\Users\\HiWin10\\Desktop\\打工\\labor-coefficient-server\\utils\\sangxueyi\\data\\flow_data.json', 'w') \r\n",
    "fileObject.write(jsObj) \r\n",
    "fileObject.close()  #最终写入的json文件格式:\r\n",
    "# print(di)\r\n"
   ]
  }
 ],
 "metadata": {
  "interpreter": {
   "hash": "57baa5815c940fdaff4d14510622de9616cae602444507ba5d0b6727c008cbd6"
  },
  "kernelspec": {
   "display_name": "Python 3.7.5 64-bit",
   "name": "python3"
  },
  "language_info": {
   "codemirror_mode": {
    "name": "ipython",
    "version": 3
   },
   "file_extension": ".py",
   "mimetype": "text/x-python",
   "name": "python",
   "nbconvert_exporter": "python",
   "pygments_lexer": "ipython3",
   "version": "3.7.5"
  },
  "orig_nbformat": 4
 },
 "nbformat": 4,
 "nbformat_minor": 2
}